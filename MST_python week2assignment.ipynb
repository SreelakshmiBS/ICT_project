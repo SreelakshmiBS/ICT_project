{
  "nbformat": 4,
  "nbformat_minor": 0,
  "metadata": {
    "colab": {
      "provenance": [],
      "authorship_tag": "ABX9TyPvz9M06sz4udGq7apCInLF",
      "include_colab_link": true
    },
    "kernelspec": {
      "name": "python3",
      "display_name": "Python 3"
    },
    "language_info": {
      "name": "python"
    }
  },
  "cells": [
    {
      "cell_type": "markdown",
      "metadata": {
        "id": "view-in-github",
        "colab_type": "text"
      },
      "source": [
        "<a href=\"https://colab.research.google.com/github/SreelakshmiBS/ICT_project/blob/main/MST_python%20week2assignment.ipynb\" target=\"_parent\"><img src=\"https://colab.research.google.com/assets/colab-badge.svg\" alt=\"Open In Colab\"/></a>"
      ]
    },
    {
      "cell_type": "code",
      "execution_count": 1,
      "metadata": {
        "colab": {
          "base_uri": "https://localhost:8080/"
        },
        "id": "lCBlUgpErbwC",
        "outputId": "99af2a78-e83f-47d7-d54d-2babdb9c5e55"
      },
      "outputs": [
        {
          "output_type": "stream",
          "name": "stdout",
          "text": [
            "enter a random number!4\n",
            "Too low! Try again\n",
            "enter a random number!8\n",
            "Too high! Try again\n",
            "enter a random number!5\n",
            "Congratulations! You guessed the number correctly!\n"
          ]
        }
      ],
      "source": [
        "secret_num = 5\n",
        "while True:\n",
        "  guess_num = int(input(\"enter a random number!\"))\n",
        "\n",
        "  if(guess_num == secret_num):\n",
        "    print(\"Congratulations! You guessed the number correctly!\")\n",
        "    break\n",
        "\n",
        "  elif(guess_num > secret_num):\n",
        "    print(\"Too high! Try again\")\n",
        "\n",
        "  else:\n",
        "    print(\"Too low! Try again\")\n"
      ]
    },
    {
      "cell_type": "code",
      "source": [
        "#2. Write a program to find and print the Factorial of this number. The Factorial of a positive integer N refers to the product of all number in the range from 1 to N.\n",
        "num = int(input(\"Enter a positive integer: \"))\n",
        "factorial = 1\n",
        "\n",
        "for i in range(1, num + 1):\n",
        "    factorial *= i\n",
        "\n",
        "print(f\"The factorial of {num} is {factorial}\")\n",
        "\n"
      ],
      "metadata": {
        "colab": {
          "base_uri": "https://localhost:8080/"
        },
        "id": "gltbYtAHuMjr",
        "outputId": "1ff4c430-ef53-4f92-b710-857ba766f5d4"
      },
      "execution_count": 2,
      "outputs": [
        {
          "output_type": "stream",
          "name": "stdout",
          "text": [
            "Enter a positive integer: 5\n",
            "The factorial of 5 is 120\n"
          ]
        }
      ]
    },
    {
      "cell_type": "code",
      "source": [
        "# Facebook Photo\n",
        "\n",
        "L = int(input(\"Enter the minimum dimension L: \"))\n",
        "N = int(input(\"Enter the number of photos: \"))\n",
        "\n",
        "for _ in range(N):\n",
        "    W, H = map(int, input(\"Enter width and height of the photo: \").split())\n",
        "\n",
        "    if W < L or H < L:\n",
        "        print(\"UPLOAD ANOTHER\")\n",
        "    elif W == H:\n",
        "        print(\"ACCEPTED\")\n",
        "    else:\n",
        "        print(\"CROP IT\")\n"
      ],
      "metadata": {
        "id": "X97uh-AyxzoO"
      },
      "execution_count": null,
      "outputs": []
    }
  ]
}