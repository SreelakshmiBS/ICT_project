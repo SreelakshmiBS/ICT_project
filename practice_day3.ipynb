{
  "nbformat": 4,
  "nbformat_minor": 0,
  "metadata": {
    "colab": {
      "provenance": [],
      "authorship_tag": "ABX9TyNn9xVU3cwTfQKS8GfrTqlP",
      "include_colab_link": true
    },
    "kernelspec": {
      "name": "python3",
      "display_name": "Python 3"
    },
    "language_info": {
      "name": "python"
    }
  },
  "cells": [
    {
      "cell_type": "markdown",
      "metadata": {
        "id": "view-in-github",
        "colab_type": "text"
      },
      "source": [
        "<a href=\"https://colab.research.google.com/github/SreelakshmiBS/ICT_project/blob/main/practice_day3.ipynb\" target=\"_parent\"><img src=\"https://colab.research.google.com/assets/colab-badge.svg\" alt=\"Open In Colab\"/></a>"
      ]
    },
    {
      "cell_type": "code",
      "execution_count": 2,
      "metadata": {
        "colab": {
          "base_uri": "https://localhost:8080/"
        },
        "id": "C4_3rZYRehSy",
        "outputId": "48917c0e-bb53-45d9-f277-b60fda77c1f9"
      },
      "outputs": [
        {
          "output_type": "stream",
          "name": "stdout",
          "text": [
            "Enter scores separated by space: 2 5 6 7 8 9 8\n",
            "Runner-up score is: 8\n"
          ]
        }
      ],
      "source": [
        " #Given the participants' score sheet for your University Sports Day, you are required to find the runner-up score. You are given scores. Store them in a list and find the score of the runner-up. (Create an array of scores and print the runner up score)\n",
        "\n",
        "scores = list(map(int, input(\"Enter scores separated by space: \").split()))\n",
        "scores.sort()\n",
        "print(\"Runner-up score is:\", sorted(list(set(scores)))[-2])\n",
        "\n"
      ]
    },
    {
      "cell_type": "code",
      "source": [
        "#A dictionary is given D={‘John’ [25,32,43],’Peter’:[87,55,96],’Ram’:[58,55,43],’Meena’:[63,79,85]} Get a name from user if the name in the dictionary change the values corresponding to that user to [88,77,99] and print the dictionary. Else print ‘Name not found’.\n",
        "\n",
        "D= {'John':[25,32,43],'Peter':[87,55,96],'Ram':[58,55,43],'Meena':[63,79,85]}\n",
        "name=input(\"Enter a name: \")\n",
        "if name in D:\n",
        "    D[name]=[100,100,100]\n",
        "    print(D)\n",
        "else:\n",
        "    print(\"Name not found\")\n"
      ],
      "metadata": {
        "colab": {
          "base_uri": "https://localhost:8080/"
        },
        "id": "FMrLtKTWgHkz",
        "outputId": "e6525cde-8e40-4e35-fd5d-c53873043f47"
      },
      "execution_count": 11,
      "outputs": [
        {
          "output_type": "stream",
          "name": "stdout",
          "text": [
            "Enter a name: John\n",
            "{'John': [100, 100, 100], 'Peter': [87, 55, 96], 'Ram': [58, 55, 43], 'Meena': [63, 79, 85]}\n"
          ]
        }
      ]
    },
    {
      "cell_type": "code",
      "source": [
        "'''Ticket Price Calculator:\n",
        "I. Ask the user to enter their age.\n",
        "II. Use control statements (if-elif-else) to calculate the ticket price based on the\n",
        "following conditions:\n",
        "a. If the age is below 5, the ticket price is free.\n",
        "b. If the age is between 5 and 12 (inclusive), the ticket price is Rs.10.\n",
        "c. If the age is above 12, the ticket price is Rs.50.\n",
        "d. If the age is above 60, the ticket price is free.\n",
        "e. If the gender is female, the ticket price is 50% of the applicable rates.\n",
        "III. Display the ticket price to the user.'''\n",
        "\n",
        "age = int(input(\"Enter your age: \"))\n",
        "gender = input(\"Enter your gender (M/F): \").upper()\n",
        "\n",
        "if age < 5 or age > 60:\n",
        "    ticket_price = 0\n",
        "elif 5 <= age <= 12:\n",
        "    ticket_price = 10\n",
        "else:\n",
        "    ticket_price = 50\n",
        "\n",
        "if gender == 'F':\n",
        "    ticket_price = ticket_price / 2\n",
        "\n",
        "if ticket_price == 0:\n",
        "    print(\"Your ticket is FREE!\")\n",
        "else:\n",
        "    print(\"Your ticket price is ₹\", ticket_price)\n",
        "\n",
        "\n"
      ],
      "metadata": {
        "colab": {
          "base_uri": "https://localhost:8080/"
        },
        "id": "zW00MrtNicKG",
        "outputId": "6cc06b6f-badf-45e8-986d-c19d734b8ca8"
      },
      "execution_count": 14,
      "outputs": [
        {
          "output_type": "stream",
          "name": "stdout",
          "text": [
            "Enter your age: 6\n",
            "Enter your gender (M/F): f\n",
            "Your ticket price is ₹ 5.0\n"
          ]
        }
      ]
    }
  ]
}