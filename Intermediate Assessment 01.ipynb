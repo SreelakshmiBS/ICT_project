{
  "nbformat": 4,
  "nbformat_minor": 0,
  "metadata": {
    "colab": {
      "provenance": [],
      "authorship_tag": "ABX9TyM7VPJAJoxfCdD793wCtT3c",
      "include_colab_link": true
    },
    "kernelspec": {
      "name": "python3",
      "display_name": "Python 3"
    },
    "language_info": {
      "name": "python"
    }
  },
  "cells": [
    {
      "cell_type": "markdown",
      "metadata": {
        "id": "view-in-github",
        "colab_type": "text"
      },
      "source": [
        "<a href=\"https://colab.research.google.com/github/SreelakshmiBS/ICT_project/blob/main/Intermediate%20Assessment%2001.ipynb\" target=\"_parent\"><img src=\"https://colab.research.google.com/assets/colab-badge.svg\" alt=\"Open In Colab\"/></a>"
      ]
    },
    {
      "cell_type": "code",
      "source": [
        "#Write a python program to check if the entered string is palindrome or not. Get the input string from user (A palindrome is a word, phrase, number, or sequence of characters that reads the same backward as forward)\n",
        "\n",
        "data = input(\"enter something to check palindrom or not\").lower()\n",
        "if data == data[::-1]:\n",
        "    print(\"it is palindrome\")\n",
        "else:\n",
        "    print(\"it is not palindrome\")\n"
      ],
      "metadata": {
        "colab": {
          "base_uri": "https://localhost:8080/"
        },
        "id": "X0WasEM4-Z0i",
        "outputId": "7d3228f2-235e-4824-fac3-85de32f254ff"
      },
      "execution_count": 5,
      "outputs": [
        {
          "output_type": "stream",
          "name": "stdout",
          "text": [
            "enter something to check palindrom or not12321\n",
            "it is palindrome\n"
          ]
        }
      ]
    },
    {
      "cell_type": "code",
      "source": [
        "#Write a python program to check if the given number is divisible by 9\n",
        "\n",
        "num = int(input(\"enter a number\"))\n",
        "remainder=num%9\n",
        "if(num%9==0):\n",
        "  print(\"the number you entered\",num, \"is divisible by 9 with remainder\",remainder)\n",
        "else:\n",
        "  print(\"the number you entered\",num,\"is not divisible by 9 with remainder\",remainder)"
      ],
      "metadata": {
        "colab": {
          "base_uri": "https://localhost:8080/"
        },
        "id": "Oe58I57o_e5J",
        "outputId": "359c70b6-847c-48b9-e2af-35f7f94af90f"
      },
      "execution_count": 14,
      "outputs": [
        {
          "output_type": "stream",
          "name": "stdout",
          "text": [
            "enter a number83\n",
            "the number you entered 83 is not divisible by 9 with remainder 2\n"
          ]
        }
      ]
    },
    {
      "cell_type": "code",
      "source": [
        "# Write a python program to print odd numbers between 300 and 500\n",
        "\n",
        "for num in range(301, 500, 2):\n",
        "    print(num)\n"
      ],
      "metadata": {
        "colab": {
          "base_uri": "https://localhost:8080/"
        },
        "id": "b_065KrxA2D3",
        "outputId": "6430a394-0d17-4c25-aca7-2a3fcde14e3f"
      },
      "execution_count": 20,
      "outputs": [
        {
          "output_type": "stream",
          "name": "stdout",
          "text": [
            "301\n",
            "303\n",
            "305\n",
            "307\n",
            "309\n",
            "311\n",
            "313\n",
            "315\n",
            "317\n",
            "319\n",
            "321\n",
            "323\n",
            "325\n",
            "327\n",
            "329\n",
            "331\n",
            "333\n",
            "335\n",
            "337\n",
            "339\n",
            "341\n",
            "343\n",
            "345\n",
            "347\n",
            "349\n",
            "351\n",
            "353\n",
            "355\n",
            "357\n",
            "359\n",
            "361\n",
            "363\n",
            "365\n",
            "367\n",
            "369\n",
            "371\n",
            "373\n",
            "375\n",
            "377\n",
            "379\n",
            "381\n",
            "383\n",
            "385\n",
            "387\n",
            "389\n",
            "391\n",
            "393\n",
            "395\n",
            "397\n",
            "399\n",
            "401\n",
            "403\n",
            "405\n",
            "407\n",
            "409\n",
            "411\n",
            "413\n",
            "415\n",
            "417\n",
            "419\n",
            "421\n",
            "423\n",
            "425\n",
            "427\n",
            "429\n",
            "431\n",
            "433\n",
            "435\n",
            "437\n",
            "439\n",
            "441\n",
            "443\n",
            "445\n",
            "447\n",
            "449\n",
            "451\n",
            "453\n",
            "455\n",
            "457\n",
            "459\n",
            "461\n",
            "463\n",
            "465\n",
            "467\n",
            "469\n",
            "471\n",
            "473\n",
            "475\n",
            "477\n",
            "479\n",
            "481\n",
            "483\n",
            "485\n",
            "487\n",
            "489\n",
            "491\n",
            "493\n",
            "495\n",
            "497\n",
            "499\n"
          ]
        }
      ]
    },
    {
      "cell_type": "code",
      "source": [
        "#Get two numbers from user and print their sum, difference, product and quotient after division\n",
        "\n",
        "a=int(input(\"enter the 1st number\"))\n",
        "b=int(input(\"enter the second number\"))\n",
        "print(\"the sum of\",a,\"and\",b,\"is\",a+b)\n",
        "print(\"the difference of\",a,\"and\",b,\"is\",a-b)\n",
        "print(\"the product of\",a,\"and\",b,\"is\",a*b)\n",
        "print(\"the quotient of\",a,\"and\",b,\"is,\",a/b)\n",
        "print(\"the power of \",a,\"to\",b,\"is\",a**b)\n"
      ],
      "metadata": {
        "colab": {
          "base_uri": "https://localhost:8080/"
        },
        "id": "ShikN8OfCm7H",
        "outputId": "00349925-d8d7-43bc-c871-82e54051b916"
      },
      "execution_count": 25,
      "outputs": [
        {
          "output_type": "stream",
          "name": "stdout",
          "text": [
            "enter the 1st number10\n",
            "enter the second number2\n",
            "the sum of 10 and 2 is 12\n",
            "the difference of 10 and 2 is 8\n",
            "the product of 10 and 2 is 20\n",
            "the quotient of 10 and 2 is, 5.0\n",
            "the power of  10 to 2 is 100\n"
          ]
        }
      ]
    },
    {
      "cell_type": "code",
      "source": [
        "#Write a python function to find the product of 2 numbers\n",
        "def product(a, b):\n",
        "    return a * b\n",
        "\n",
        "\n",
        "num1 = int(input(\"Enter first number: \"))\n",
        "num2 = int(input(\"Enter second number: \"))\n",
        "\n",
        "result = product(num1, num2)\n",
        "print(\"The product of\", num1, \"and\", num2, \"is\", result)\n"
      ],
      "metadata": {
        "colab": {
          "base_uri": "https://localhost:8080/"
        },
        "id": "kd9nhNcSD2P1",
        "outputId": "4e5a4ff2-28fd-462c-b7b6-e876979ff6b5"
      },
      "execution_count": 26,
      "outputs": [
        {
          "output_type": "stream",
          "name": "stdout",
          "text": [
            "Enter first number: 20\n",
            "Enter second number: 4\n",
            "The product of 20 and 4 is 80\n"
          ]
        }
      ]
    }
  ]
}