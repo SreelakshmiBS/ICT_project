{
  "cells": [
    {
      "cell_type": "markdown",
      "metadata": {
        "id": "view-in-github",
        "colab_type": "text"
      },
      "source": [
        "<a href=\"https://colab.research.google.com/github/SreelakshmiBS/ICT_project/blob/main/practical_problem_day2.ipynb\" target=\"_parent\"><img src=\"https://colab.research.google.com/assets/colab-badge.svg\" alt=\"Open In Colab\"/></a>"
      ]
    },
    {
      "cell_type": "code",
      "execution_count": null,
      "metadata": {
        "colab": {
          "base_uri": "https://localhost:8080/"
        },
        "id": "rTUM515QbZHk",
        "outputId": "8aceb5af-7b33-4ba6-9cf8-5edbb8296412"
      },
      "outputs": [
        {
          "output_type": "stream",
          "name": "stdout",
          "text": [
            "enter a set of numbers1 2 3 4 5 6\n",
            "[1, 2, 3, 4, 5, 6]\n",
            "The sum of set of numbers is 21 \n"
          ]
        }
      ],
      "source": [
        "#Write a program to find sum of all elements in a list of integers.\n",
        "\n",
        "numbers=input(\"enter a set of numbers\")  # asking the user to enter  a set of numbers\n",
        "number_list=numbers.split()   #the input is in string format so it need to be split into smaller string list\n",
        "num_list=[int(num)for num in number_list]   #converts each small strings to integers using int(num) for looping\n",
        "print(num_list)  #prints the list of numbers\n",
        "#sum\n",
        "total_sum=sum(num_list)\n",
        "print(f\"The sum of set of numbers is {total_sum} \")"
      ]
    },
    {
      "cell_type": "code",
      "source": [
        "#Input a sentence as a string.\n",
        "#a) Print its length\n",
        "\n",
        "string = input(\"enter a string\")\n",
        "print(f\"the length of {string} is\",len(string))\n",
        "\n",
        "#b) Print the first half of string\n",
        "half_length = len(string) // 2   # Use integer division to find half\n",
        "first_half = string[:half_length]  # Slice from start to the halfway point\n",
        "print(\"The first half of the string is:\", first_half)\n"
      ],
      "metadata": {
        "id": "XVm4skh0jPaB",
        "colab": {
          "base_uri": "https://localhost:8080/"
        },
        "outputId": "09bd8844-f056-4fd3-8bf8-de7066ec8379"
      },
      "execution_count": 9,
      "outputs": [
        {
          "output_type": "stream",
          "name": "stdout",
          "text": [
            "enter a stringsreelakshmi\n",
            "the length of sreelakshmi is 11\n",
            "The first half of the string is: sreel\n"
          ]
        }
      ]
    },
    {
      "cell_type": "code",
      "source": [
        "#Write a program to enter a tuple of integers as (78,45,32,19,82,77,40,39). Change the third value in the tuple to\n",
        "100\n",
        "\n",
        "numbers = (78, 45, 32, 19, 82, 77, 40, 39) # Create a tuple of integers\n",
        "print(\"tuple:\", numbers)\n",
        "\n",
        "numbers_list = list(numbers) # Convert the tuple to a list to modify it\n",
        "numbers_list[2] = 100  # Change the third value (index 2) to 100\n",
        "numbers = tuple(numbers_list)# Convert the list back to a tuple\n",
        "print(\"Modified tuple:\", numbers)\n",
        "\n",
        "\n"
      ],
      "metadata": {
        "colab": {
          "base_uri": "https://localhost:8080/"
        },
        "id": "dplsEQAcn5tX",
        "outputId": "b0e9364f-d8b0-4bb7-94b2-63edf5e908be"
      },
      "execution_count": 10,
      "outputs": [
        {
          "output_type": "stream",
          "name": "stdout",
          "text": [
            "tuple: (78, 45, 32, 19, 82, 77, 40, 39)\n",
            "Modified tuple: (78, 45, 100, 19, 82, 77, 40, 39)\n"
          ]
        }
      ]
    },
    {
      "cell_type": "code",
      "source": [
        "#Consider a list listA=[19,32,10,55,31,32,94,29,10,65,77,40,40]\n",
        "list_num = [19, 32, 10, 55, 31, 32, 94, 29, 10, 65, 77, 40, 40]\n",
        "print(list_num)\n",
        "\n",
        "#(a) Delete the first occurrence of 32\n",
        "list_num.remove(32)\n",
        "print(\"list after removing\",list_num)\n",
        "\n",
        "#(b) Delete all occurrences of 40\n",
        "while 40 in list_num:\n",
        "    list_num.remove(40)\n",
        "print(\"After deleting all 40s:\", list_num)\n",
        "\n",
        "#(c) Delete the value at index 5\n",
        "del list_num[5]\n",
        "print(\"After deleting the value at index 5:\", list_num)\n",
        "\n",
        "#(d) Modify the value at index=9 as 300\n",
        "list_num[8] = 300\n",
        "print(\"After modifying the value at index 9:\", list_num)\n",
        "\n",
        "#(e) Add 200 at index=2\n",
        "list_num.insert(2, 200)\n",
        "print(\"After adding 200 at index 2:\", list_num)\n",
        "\n",
        "#(f) Print the final list with its length, maximum value and sum of all elements\n",
        "print(\"Final list:\", list_num)\n",
        "print(\"Length of the list:\", len(list_num))\n",
        "print(\"Maximum value in the list:\", max(list_num))\n",
        "print(\"Sum of all elements in the list:\", sum(list_num))\n",
        "\n"
      ],
      "metadata": {
        "colab": {
          "base_uri": "https://localhost:8080/"
        },
        "id": "Kb9xoj1gp8ef",
        "outputId": "673eb13a-10f8-4022-aa16-e96d6ee26feb"
      },
      "execution_count": 13,
      "outputs": [
        {
          "output_type": "stream",
          "name": "stdout",
          "text": [
            "[19, 32, 10, 55, 31, 32, 94, 29, 10, 65, 77, 40, 40]\n",
            "list after removing [19, 10, 55, 31, 32, 94, 29, 10, 65, 77, 40, 40]\n",
            "After deleting all 40s: [19, 10, 55, 31, 32, 94, 29, 10, 65, 77]\n",
            "After deleting the value at index 5: [19, 10, 55, 31, 32, 29, 10, 65, 77]\n",
            "After modifying the value at index 9: [19, 10, 55, 31, 32, 29, 10, 65, 300]\n",
            "After adding 200 at index 2: [19, 10, 200, 55, 31, 32, 29, 10, 65, 300]\n",
            "Final list: [19, 10, 200, 55, 31, 32, 29, 10, 65, 300]\n",
            "Length of the list: 10\n",
            "Maximum value in the list: 300\n",
            "Sum of all elements in the list: 751\n"
          ]
        }
      ]
    },
    {
      "cell_type": "code",
      "source": [
        "#Consider a string ”The day has been long”\n",
        "string= \"The day has been long\"\n",
        "print(string)\n",
        "\n",
        "#(a) Delete the value at index =4\n",
        "new_string = string[:4] + string[5:]\n",
        "print(\"After deleting the value at index 4:\", new_string)\n",
        "\n",
        "#(b) Print the string 4 times in a single line with space between each repetition\n",
        "repeated_string = ' '.join([string] * 4)\n",
        "print(\"Repeated string:\", repeated_string)\n",
        "\n",
        "#(c) Print the string 3 times in a new line each time\n",
        "for str in range(3):\n",
        "    print(string)\n",
        "\n",
        "#(d) Modify the string at index 7 as ’A’\n",
        "modified_string = string[:7] + 'A' + string[8:]\n",
        "print(\"Modified string:\", modified_string)\n",
        "\n",
        "#(e) Print the string from index 4 to 15\n",
        "substring = string[4:15]\n",
        "print(\"Substring from index 4 to 15:\", substring)\n",
        "\n",
        "#(f) Print the final string with its length\n",
        "print(\"Final string:\", string)\n",
        "print(\"Length of the string:\", len(string))\n",
        "\n",
        "\n",
        "\n"
      ],
      "metadata": {
        "id": "7BG59-Atuk-j",
        "outputId": "05b2c9af-40cb-475d-e12e-2a0b3d3aa551",
        "colab": {
          "base_uri": "https://localhost:8080/"
        }
      },
      "execution_count": 14,
      "outputs": [
        {
          "output_type": "stream",
          "name": "stdout",
          "text": [
            "The day has been long\n",
            "After deleting the value at index 4: The ay has been long\n",
            "Repeated string: The day has been long The day has been long The day has been long The day has been long\n",
            "The day has been long\n",
            "The day has been long\n",
            "The day has been long\n",
            "Modified string: The dayAhas been long\n",
            "Substring from index 4 to 15: day has bee\n",
            "Final string: The day has been long\n",
            "Length of the string: 21\n"
          ]
        }
      ]
    }
  ],
  "metadata": {
    "colab": {
      "provenance": [],
      "authorship_tag": "ABX9TyMxSdQAqF1FB0f58aWZoxbE",
      "include_colab_link": true
    },
    "kernelspec": {
      "display_name": "Python 3",
      "name": "python3"
    },
    "language_info": {
      "name": "python"
    }
  },
  "nbformat": 4,
  "nbformat_minor": 0
}