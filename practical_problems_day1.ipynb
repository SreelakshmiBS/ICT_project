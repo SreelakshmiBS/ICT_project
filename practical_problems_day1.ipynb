{
  "nbformat": 4,
  "nbformat_minor": 0,
  "metadata": {
    "colab": {
      "provenance": [],
      "authorship_tag": "ABX9TyNCR1PfDabTfy3MFNq3uJ8B",
      "include_colab_link": true
    },
    "kernelspec": {
      "name": "python3",
      "display_name": "Python 3"
    },
    "language_info": {
      "name": "python"
    }
  },
  "cells": [
    {
      "cell_type": "markdown",
      "metadata": {
        "id": "view-in-github",
        "colab_type": "text"
      },
      "source": [
        "<a href=\"https://colab.research.google.com/github/SreelakshmiBS/ICT_project/blob/main/practical_problems_day1.ipynb\" target=\"_parent\"><img src=\"https://colab.research.google.com/assets/colab-badge.svg\" alt=\"Open In Colab\"/></a>"
      ]
    },
    {
      "cell_type": "code",
      "execution_count": 316,
      "metadata": {
        "colab": {
          "base_uri": "https://localhost:8080/"
        },
        "id": "3DijrnTgmzdY",
        "outputId": "d42d2d16-92f6-4a3b-c802-925c36a8dde6"
      },
      "outputs": [
        {
          "output_type": "stream",
          "name": "stdout",
          "text": [
            "hello world\n",
            "hello\n"
          ]
        }
      ],
      "source": [
        "#Given the string \"Hello, World!\", extract and print thesubstring \"Hello\"\n",
        "string=\"hello world\"\n",
        "print(string)\n",
        "substring=string[0:5]\n",
        "print(substring)"
      ]
    },
    {
      "cell_type": "code",
      "source": [
        "#Given the string \"Python is fun\", extract and print the substring \"is\".\n",
        "string=\"python is fun\"\n",
        "print(string)\n",
        "substring=string[7:9]\n",
        "print(substring)"
      ],
      "metadata": {
        "colab": {
          "base_uri": "https://localhost:8080/"
        },
        "id": "ZaeMWhzTdNKd",
        "outputId": "977d7650-d25b-45f8-a0ea-cb8cf55c9505"
      },
      "execution_count": 317,
      "outputs": [
        {
          "output_type": "stream",
          "name": "stdout",
          "text": [
            "python is fun\n",
            "is\n"
          ]
        }
      ]
    },
    {
      "cell_type": "code",
      "source": [
        "#. Given the string \"Programming\", extract and print the substring \"gram\" using slicing indices.\n",
        "string=\"programming\"\n",
        "print(string)\n",
        "substring=string[3:7]\n",
        "print(substring)"
      ],
      "metadata": {
        "colab": {
          "base_uri": "https://localhost:8080/"
        },
        "id": "Kg6iSZSzeX-W",
        "outputId": "c23fb35a-a367-413c-b0d4-4e04f8f2cf9b"
      },
      "execution_count": 318,
      "outputs": [
        {
          "output_type": "stream",
          "name": "stdout",
          "text": [
            "programming\n",
            "gram\n"
          ]
        }
      ]
    },
    {
      "cell_type": "code",
      "source": [
        "#Given the string \"abcdefgh\", use slicing to print only the characters at even indices\n",
        "string=\"abcdefgh\"\n",
        "print(string)\n",
        "substring=string[::2]\n",
        "print(substring)"
      ],
      "metadata": {
        "colab": {
          "base_uri": "https://localhost:8080/"
        },
        "id": "m-9x4GJkf-zc",
        "outputId": "a5f96ae4-4917-4157-d833-b1a273f8a036"
      },
      "execution_count": 319,
      "outputs": [
        {
          "output_type": "stream",
          "name": "stdout",
          "text": [
            "abcdefgh\n",
            "aceg\n"
          ]
        }
      ]
    },
    {
      "cell_type": "code",
      "source": [
        "#Given the string \"abcdefg\", use negative indices to extract and print the substring \"efg\".\n",
        "string=\"abcdefg\"\n",
        "print(string)\n",
        "substring=string[4:7]\n",
        "print(substring)"
      ],
      "metadata": {
        "colab": {
          "base_uri": "https://localhost:8080/"
        },
        "id": "Y9Tml6aqgaOA",
        "outputId": "57a74b6b-bc8c-4103-dca6-9333a4407c15"
      },
      "execution_count": 320,
      "outputs": [
        {
          "output_type": "stream",
          "name": "stdout",
          "text": [
            "abcdefg\n",
            "efg\n"
          ]
        }
      ]
    },
    {
      "cell_type": "code",
      "source": [
        "#Given the string \"Data Science\", use negative indices to extract and print the last three characters\n",
        "string=\"data science\"\n",
        "print(string)\n",
        "substring=string[-3:]\n",
        "print(substring)\n"
      ],
      "metadata": {
        "id": "U6tjQQVNg7hA",
        "colab": {
          "base_uri": "https://localhost:8080/"
        },
        "outputId": "af3ee002-f6b8-4eb0-d334-9e44c8b88d57"
      },
      "execution_count": 321,
      "outputs": [
        {
          "output_type": "stream",
          "name": "stdout",
          "text": [
            "data science\n",
            "nce\n"
          ]
        }
      ]
    },
    {
      "cell_type": "code",
      "source": [
        "# Given the string \"abcdefghij\", use slicing with a step to  print every second character.\n",
        "string=\"abcdefghij\"\n",
        "print(string)\n",
        "substring=string[::2]\n",
        "print(substring)"
      ],
      "metadata": {
        "colab": {
          "base_uri": "https://localhost:8080/"
        },
        "id": "pz-gW2x6I5xT",
        "outputId": "0077e562-c8c3-41b0-caec-1dfba0351c5a"
      },
      "execution_count": 322,
      "outputs": [
        {
          "output_type": "stream",
          "name": "stdout",
          "text": [
            "abcdefghij\n",
            "acegi\n"
          ]
        }
      ]
    },
    {
      "cell_type": "code",
      "source": [
        "#Given the string \"1234567890\", use slicing with a step to  print the odd digits.\n",
        "string=\"1234567890\"\n",
        "print(string)\n",
        "substring=string[::2]\n",
        "print(substring)"
      ],
      "metadata": {
        "colab": {
          "base_uri": "https://localhost:8080/"
        },
        "id": "q9YFCtXwJeGj",
        "outputId": "1094b149-c5a6-4eb7-aa91-eed95ff373db"
      },
      "execution_count": 323,
      "outputs": [
        {
          "output_type": "stream",
          "name": "stdout",
          "text": [
            "1234567890\n",
            "13579\n"
          ]
        }
      ]
    },
    {
      "cell_type": "code",
      "source": [
        "#Given the string \"Hello\", use slicing to print the string in reverse order.\n",
        "string=\"hello\"\n",
        "print(string)\n",
        "substring=string[::-1]\n",
        "print(substring)\n"
      ],
      "metadata": {
        "colab": {
          "base_uri": "https://localhost:8080/"
        },
        "id": "VSKv4GI2Kilr",
        "outputId": "348f491b-9268-4158-8b49-41546f7e502e"
      },
      "execution_count": 324,
      "outputs": [
        {
          "output_type": "stream",
          "name": "stdout",
          "text": [
            "hello\n",
            "olleh\n"
          ]
        }
      ]
    },
    {
      "cell_type": "code",
      "source": [
        "#Given the string \"abcdefghijk\", extract and print the substring \"acegik\" using slicing.\n",
        "string=\"abcdefghijk\"\n",
        "print(string)\n",
        "substring=string[::2]\n",
        "print(substring)"
      ],
      "metadata": {
        "colab": {
          "base_uri": "https://localhost:8080/"
        },
        "id": "onMlopn5VkTt",
        "outputId": "9b02ccef-5fa9-46bd-bf48-41be0e68d942"
      },
      "execution_count": 325,
      "outputs": [
        {
          "output_type": "stream",
          "name": "stdout",
          "text": [
            "abcdefghijk\n",
            "acegik\n"
          ]
        }
      ]
    }
  ]
}